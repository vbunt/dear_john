{
 "cells": [
  {
   "cell_type": "code",
   "execution_count": 1,
   "metadata": {},
   "outputs": [],
   "source": [
    "import json\n",
    "import sqlite3\n",
    "from pymystem3 import Mystem\n",
    "mystem_analyzer = Mystem()\n",
    "import re"
   ]
  },
  {
   "cell_type": "markdown",
   "metadata": {},
   "source": [
    "В Телеграме можно скачать переписку в формате json."
   ]
  },
  {
   "cell_type": "code",
   "execution_count": 2,
   "metadata": {},
   "outputs": [],
   "source": [
    "with open('result.json', 'r') as f:\n",
    "    data = json.load(f)"
   ]
  },
  {
   "cell_type": "code",
   "execution_count": 3,
   "metadata": {},
   "outputs": [],
   "source": [
    "with open('ru_stopwords.txt', 'r') as file:\n",
    "    stopwords = file.read().split('\\n')"
   ]
  },
  {
   "cell_type": "markdown",
   "metadata": {},
   "source": [
    "Теперь положим это в базу данных."
   ]
  },
  {
   "cell_type": "markdown",
   "metadata": {},
   "source": [
    "База состоит из двух таблиц: в одной хранятся сообщения в лемматизиованном виде и в лемматизированном виде без стоп-слов, во второй хранится информация об отправителе и времени отправки сообщения."
   ]
  },
  {
   "cell_type": "code",
   "execution_count": 4,
   "metadata": {},
   "outputs": [],
   "source": [
    "conn = sqlite3.connect('oleg.db')\n",
    "cur = conn.cursor()\n",
    "\n",
    "cur.execute(\"\"\"\n",
    "CREATE TABLE IF NOT EXISTS meta \n",
    "(id int PRIMARY KEY, \n",
    "sender text, \n",
    "date text, \n",
    "time text, \n",
    "datetime text)\n",
    "\"\"\")\n",
    "\n",
    "conn.commit()\n",
    "\n",
    "cur.execute(\"\"\"\n",
    "CREATE TABLE IF NOT EXISTS texts \n",
    "(id int PRIMARY KEY, \n",
    "text text, \n",
    "lemmatized text, \n",
    "no_stopwords text)\n",
    "\"\"\")\n",
    "\n",
    "conn.commit()"
   ]
  },
  {
   "cell_type": "code",
   "execution_count": 5,
   "metadata": {},
   "outputs": [],
   "source": [
    "def get_lemmatized(text):\n",
    "    \n",
    "    if type(text) == list:\n",
    "        return '', ''\n",
    "    text = mystem_analyzer.lemmatize(text)\n",
    "    lemmatized = []\n",
    "    no_stopwords = []\n",
    "    \n",
    "    for word in text:\n",
    "        if re.findall('\\w-\\w-\\w|\\w-\\w|\\w', word):\n",
    "            lemmatized.append(word)\n",
    "            if word not in stopwords:\n",
    "                no_stopwords.append(word)\n",
    "            \n",
    "    return ' '.join(lemmatized), ' '.join(no_stopwords)"
   ]
  },
  {
   "cell_type": "code",
   "execution_count": 7,
   "metadata": {},
   "outputs": [],
   "source": [
    "for message in data['messages']:\n",
    "    msg_id = message['id']\n",
    "    try:\n",
    "        if message['from'] == 'Valeria Buntyakova':\n",
    "            sender = 'Val'\n",
    "        else:\n",
    "            sender = 'Oleg'\n",
    "    except KeyError:\n",
    "        continue\n",
    "    date, time = message['date'].split('T')\n",
    "    datetime = message['date']\n",
    "    text = message['text']\n",
    "    lemmatized, no_stopwords = get_lemmatized(text)\n",
    "    if not lemmatized:\n",
    "        continue\n",
    "    \n",
    "    cur.execute(\n",
    "                '''INSERT INTO meta (id, sender, date, time, datetime)\n",
    "                    VALUES (?, ?, ?, ?, ?)''',\n",
    "                    (msg_id, sender, date, time, datetime)\n",
    "                )\n",
    "    conn.commit()\n",
    "    \n",
    "    cur.execute(\n",
    "                '''INSERT INTO texts (id, text, lemmatized, no_stopwords)\n",
    "                    VALUES (?, ?, ?, ?)''',\n",
    "                    (msg_id, text, lemmatized, no_stopwords)\n",
    "                )\n",
    "    conn.commit()"
   ]
  },
  {
   "cell_type": "code",
   "execution_count": null,
   "metadata": {},
   "outputs": [],
   "source": []
  }
 ],
 "metadata": {
  "kernelspec": {
   "display_name": "Python 3",
   "language": "python",
   "name": "python3"
  },
  "language_info": {
   "codemirror_mode": {
    "name": "ipython",
    "version": 3
   },
   "file_extension": ".py",
   "mimetype": "text/x-python",
   "name": "python",
   "nbconvert_exporter": "python",
   "pygments_lexer": "ipython3",
   "version": "3.7.3"
  }
 },
 "nbformat": 4,
 "nbformat_minor": 2
}
