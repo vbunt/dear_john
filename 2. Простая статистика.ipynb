{
 "cells": [
  {
   "cell_type": "code",
   "execution_count": 1,
   "metadata": {},
   "outputs": [],
   "source": [
    "import sqlite3\n",
    "from datetime import datetime, timedelta"
   ]
  },
  {
   "cell_type": "code",
   "execution_count": 2,
   "metadata": {},
   "outputs": [],
   "source": [
    "conn = sqlite3.connect('oleg.db')\n",
    "cur = conn.cursor()"
   ]
  },
  {
   "cell_type": "markdown",
   "metadata": {},
   "source": [
    "### Количество сообщений"
   ]
  },
  {
   "cell_type": "code",
   "execution_count": 3,
   "metadata": {},
   "outputs": [],
   "source": [
    "cur.execute('''\n",
    "    select sender, count(sender)\n",
    "    from meta\n",
    "    group by sender''')\n",
    "n_mes = cur.fetchall()"
   ]
  },
  {
   "cell_type": "code",
   "execution_count": 4,
   "metadata": {},
   "outputs": [
    {
     "data": {
      "text/plain": [
       "[('Oleg', 26820), ('Val', 20642)]"
      ]
     },
     "execution_count": 4,
     "metadata": {},
     "output_type": "execute_result"
    }
   ],
   "source": [
    "n_mes"
   ]
  },
  {
   "cell_type": "markdown",
   "metadata": {},
   "source": [
    "### Количество знаков"
   ]
  },
  {
   "cell_type": "code",
   "execution_count": 5,
   "metadata": {},
   "outputs": [],
   "source": [
    "cur.execute('''\n",
    "    select sender, sum(length(text))\n",
    "    from meta\n",
    "    join texts on texts.id = meta.id\n",
    "    group by sender''')\n",
    "n_ch = cur.fetchall()"
   ]
  },
  {
   "cell_type": "code",
   "execution_count": 6,
   "metadata": {},
   "outputs": [
    {
     "data": {
      "text/plain": [
       "[('Oleg', 453182), ('Val', 785954)]"
      ]
     },
     "execution_count": 6,
     "metadata": {},
     "output_type": "execute_result"
    }
   ],
   "source": [
    "n_ch"
   ]
  },
  {
   "cell_type": "markdown",
   "metadata": {},
   "source": [
    "### Среднее количество знаков"
   ]
  },
  {
   "cell_type": "code",
   "execution_count": 7,
   "metadata": {},
   "outputs": [
    {
     "name": "stdout",
     "output_type": "stream",
     "text": [
      "Oleg: 16.89716629381059\n"
     ]
    }
   ],
   "source": [
    "print('Oleg:', n_ch[0][1] / n_mes[0][1])"
   ]
  },
  {
   "cell_type": "code",
   "execution_count": 8,
   "metadata": {},
   "outputs": [
    {
     "name": "stdout",
     "output_type": "stream",
     "text": [
      "Val: 38.075477182443564\n"
     ]
    }
   ],
   "source": [
    "print('Val:', n_ch[1][1] / n_mes[1][1])"
   ]
  },
  {
   "cell_type": "markdown",
   "metadata": {},
   "source": [
    "### Кто начинал диалоги + Кто отвечал быстрее"
   ]
  },
  {
   "cell_type": "code",
   "execution_count": 9,
   "metadata": {},
   "outputs": [],
   "source": [
    "cur.execute('''\n",
    "    select sender, datetime\n",
    "    from meta''')\n",
    "lines = cur.fetchall()"
   ]
  },
  {
   "cell_type": "markdown",
   "metadata": {},
   "source": [
    "Будем считать, что если человек отвечает позже чем спустя три часа, то он начинает новый диалог. Если новый диалог не начинается, значит мы считаем время ожидания между сообщениями."
   ]
  },
  {
   "cell_type": "code",
   "execution_count": 10,
   "metadata": {},
   "outputs": [],
   "source": [
    "starts_oleg = 1\n",
    "starts_val = 0\n",
    "waited_oleg = timedelta()\n",
    "waited_val = timedelta()\n",
    "\n",
    "for i in range(1, len(lines)):\n",
    "    \n",
    "    prev = datetime.fromisoformat(lines[i-1][1])\n",
    "    prev_per = lines[i-1][0]\n",
    "    \n",
    "    cur = datetime.fromisoformat(lines[i][1])\n",
    "    d = timedelta(hours=3)\n",
    "    cur_per = lines[i][0]\n",
    "    \n",
    "    if cur - prev >= d:\n",
    "        if cur_per == 'Val':\n",
    "            starts_val += 1\n",
    "        else:\n",
    "            starts_oleg += 1\n",
    "\n",
    "    else:\n",
    "        if prev_per != cur_per:\n",
    "            dl = cur - prev\n",
    "            if cur_per == 'Val':\n",
    "                waited_val += dl\n",
    "            else:\n",
    "                waited_oleg += dl"
   ]
  },
  {
   "cell_type": "markdown",
   "metadata": {},
   "source": [
    "Количество начатых диалогов:"
   ]
  },
  {
   "cell_type": "code",
   "execution_count": 11,
   "metadata": {},
   "outputs": [
    {
     "data": {
      "text/plain": [
       "(342, 1177)"
      ]
     },
     "execution_count": 11,
     "metadata": {},
     "output_type": "execute_result"
    }
   ],
   "source": [
    "starts_oleg, starts_val"
   ]
  },
  {
   "cell_type": "markdown",
   "metadata": {},
   "source": [
    "Время ожидания:"
   ]
  },
  {
   "cell_type": "code",
   "execution_count": 12,
   "metadata": {},
   "outputs": [
    {
     "data": {
      "text/plain": [
       "(datetime.timedelta(days=56, seconds=18099),\n",
       " datetime.timedelta(days=38, seconds=28055))"
      ]
     },
     "execution_count": 12,
     "metadata": {},
     "output_type": "execute_result"
    }
   ],
   "source": [
    "waited_oleg, waited_val"
   ]
  },
  {
   "cell_type": "code",
   "execution_count": null,
   "metadata": {},
   "outputs": [],
   "source": []
  }
 ],
 "metadata": {
  "kernelspec": {
   "display_name": "Python 3",
   "language": "python",
   "name": "python3"
  },
  "language_info": {
   "codemirror_mode": {
    "name": "ipython",
    "version": 3
   },
   "file_extension": ".py",
   "mimetype": "text/x-python",
   "name": "python",
   "nbconvert_exporter": "python",
   "pygments_lexer": "ipython3",
   "version": "3.7.3"
  }
 },
 "nbformat": 4,
 "nbformat_minor": 2
}
