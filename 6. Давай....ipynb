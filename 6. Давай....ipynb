{
 "cells": [
  {
   "cell_type": "markdown",
   "metadata": {},
   "source": [
    "В этой программе я достаю из корпуса все глаголы и предложные группы, которые встречаются после *давай*, *пойдем* и *го*. "
   ]
  },
  {
   "cell_type": "code",
   "execution_count": 1,
   "metadata": {},
   "outputs": [],
   "source": [
    "import sqlite3\n",
    "from collections import Counter\n",
    "import pymorphy2\n",
    "morph = pymorphy2.MorphAnalyzer()"
   ]
  },
  {
   "cell_type": "code",
   "execution_count": 2,
   "metadata": {},
   "outputs": [],
   "source": [
    "conn = sqlite3.connect('oleg.db')\n",
    "cur = conn.cursor()"
   ]
  },
  {
   "cell_type": "code",
   "execution_count": 3,
   "metadata": {},
   "outputs": [],
   "source": [
    "def nothing():\n",
    "    return"
   ]
  },
  {
   "cell_type": "code",
   "execution_count": 4,
   "metadata": {},
   "outputs": [],
   "source": [
    "cur.execute('''\n",
    "select text\n",
    "from texts\n",
    "join meta on texts.id = meta.id\n",
    "where instr(text, 'давай') != 0 or instr(text, 'Давай') != 0 \n",
    "or instr(text, 'го') != 0 or instr(text, 'Го') != 0 \n",
    "or instr(text, 'пойдем') != 0 or instr(text, 'Пойдем') != 0 \n",
    "or instr(text, 'пойдём') != 0 or instr(text, 'Пойдём') != 0''')\n",
    "\n",
    "mess = cur.fetchall()"
   ]
  },
  {
   "cell_type": "code",
   "execution_count": 5,
   "metadata": {},
   "outputs": [],
   "source": [
    "def is_right(s):\n",
    "    s = s.lower().split()\n",
    "    \n",
    "    if 'давай' in s:\n",
    "        i = s.index('давай')\n",
    "    elif 'го' in s:\n",
    "        i = s.index('го')\n",
    "    elif 'пойдем' in s:\n",
    "        i = s.index('пойдем')\n",
    "    elif 'пойдём' in s:\n",
    "        i = s.index('пойдём')\n",
    "    else:\n",
    "        return\n",
    "    \n",
    "    try:\n",
    "        pos = morph.parse(s[i+1])[0].tag.POS\n",
    "        lemma = morph.parse(s[i+1])[0].normal_form\n",
    "    except IndexError:\n",
    "        pos = 0\n",
    "    \n",
    "    if pos == 'INFN' or pos == 'VERB':\n",
    "        return lemma\n",
    "    elif pos == 'PREP':\n",
    "        lemma1 = lemma\n",
    "        pos2 = morph.parse(s[i+2])[0].tag.POS\n",
    "        lemma2 = morph.parse(s[i+2])[0].normal_form\n",
    "        if pos2 == 'NOUN':\n",
    "            a = lemma1 + ' ' + s[i+2]\n",
    "            return a"
   ]
  },
  {
   "cell_type": "code",
   "execution_count": 6,
   "metadata": {},
   "outputs": [],
   "source": [
    "def get_words(mess):\n",
    "    words = []\n",
    "    for el in mess:\n",
    "        word = is_right(el[0])\n",
    "        if word:\n",
    "            words.append(word)\n",
    "    return words"
   ]
  },
  {
   "cell_type": "code",
   "execution_count": 7,
   "metadata": {},
   "outputs": [],
   "source": [
    "def get_cnt(words):\n",
    "    return Counter(words).most_common()"
   ]
  },
  {
   "cell_type": "code",
   "execution_count": 8,
   "metadata": {},
   "outputs": [],
   "source": [
    "def m(mess):\n",
    "    words = get_words(mess)\n",
    "    cnt = get_cnt(words)\n",
    "    return words, cnt"
   ]
  },
  {
   "cell_type": "markdown",
   "metadata": {},
   "source": [
    "Результатов оказалось неожиданно мало:"
   ]
  },
  {
   "cell_type": "code",
   "execution_count": 9,
   "metadata": {},
   "outputs": [
    {
     "data": {
      "text/plain": [
       "[('гулять', 6),\n",
       " ('посмотреть', 5),\n",
       " ('кататься', 2),\n",
       " ('остановиться', 2),\n",
       " ('поговорить', 2),\n",
       " ('решать', 2),\n",
       " ('сделать', 2),\n",
       " ('попробовать', 2),\n",
       " ('в квартиру', 1),\n",
       " ('помочь', 1),\n",
       " ('мочь', 1),\n",
       " ('в воскресенье', 1),\n",
       " ('в пн', 1),\n",
       " ('играть', 1),\n",
       " ('в париж', 1),\n",
       " ('прикинуть', 1),\n",
       " ('на маяковской', 1),\n",
       " ('кушать', 1),\n",
       " ('выучить', 1),\n",
       " ('через час', 1),\n",
       " ('в вс', 1),\n",
       " ('в сторону', 1),\n",
       " ('в половину', 1),\n",
       " ('до полуночи', 1),\n",
       " ('понять', 1),\n",
       " ('на улицу', 1),\n",
       " ('лазать', 1),\n",
       " ('подумать', 1),\n",
       " ('в тулузу', 1),\n",
       " ('в парк', 1),\n",
       " ('встать', 1),\n",
       " ('в зоопарк', 1),\n",
       " ('на пламя', 1),\n",
       " ('в москве', 1),\n",
       " ('сходить', 1),\n",
       " ('пойти', 1),\n",
       " ('в пятницу', 1),\n",
       " ('смотреть', 1),\n",
       " ('дособирать', 1),\n",
       " ('встретиться', 1),\n",
       " ('про безответственность', 1),\n",
       " ('договориться', 1),\n",
       " ('есть', 1),\n",
       " ('выбрать', 1),\n",
       " ('селиться', 1),\n",
       " ('в воскреснье', 1),\n",
       " ('покупать', 1),\n",
       " ('к канту', 1),\n",
       " ('в час', 1)]"
      ]
     },
     "execution_count": 9,
     "metadata": {},
     "output_type": "execute_result"
    }
   ],
   "source": [
    "m(mess)[1]"
   ]
  },
  {
   "cell_type": "code",
   "execution_count": null,
   "metadata": {},
   "outputs": [],
   "source": []
  }
 ],
 "metadata": {
  "kernelspec": {
   "display_name": "Python 3",
   "language": "python",
   "name": "python3"
  },
  "language_info": {
   "codemirror_mode": {
    "name": "ipython",
    "version": 3
   },
   "file_extension": ".py",
   "mimetype": "text/x-python",
   "name": "python",
   "nbconvert_exporter": "python",
   "pygments_lexer": "ipython3",
   "version": "3.7.3"
  }
 },
 "nbformat": 4,
 "nbformat_minor": 2
}
